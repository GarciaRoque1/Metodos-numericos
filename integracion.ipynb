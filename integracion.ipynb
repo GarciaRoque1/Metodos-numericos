import numpy as np
import os
import math as mt

def fun1(x):
    return mt.pow(x,4) * ((mt.sqrt(3 + 2*x**2))/3)

def fun2(x):
    return (mt.pow(x,5))/((mt.pow(x,2) + 4)**(1/5))

def Integracion():
    while True:
        
        print("Funciones disponibles para el metodo")
        print("1.- x^4 * (( √(3 + 2x^2) ) / (3))")
        print("2.- (( x^5 ) / ( (x^2 + 4)^(1/5) ))")
        print("3.- Salir")
        resp1= int(input("ingrese una opcion valida: "))
        
        if(resp1 == 1):
            while True:
                print("Funcion: x^4 * (( √(3 + 2x^2) ) / (3)), seleccionada")
                inic= float(input("Ingrese el valor inicial del intervalo: "))
                fin= float(input("Ingrese el valor final del intervalo: "))
                h= int(input("numero de intervalos a manejar: "))
                while True:
                    if(inic>fin and (h==3 or h<=1)):
                        print("Ingrese un intervalo valido y un numero de intervalo direfente a 3 y mayor a 1 sino no tiene chiste hacer las reglas de integracion")
                        inic= float(input("valor inicial del intervalo: "))
                        fin= float(input("valor final del intervalo: "))
                        h= int(input("numero de intervalos a manejar: "))
                        continue
                    elif(inic>fin):
                        print("Ingrese un intervalo valido")
                        inic= float(input("valor inicial del intervalo: "))
                        fin= float(input("valor final del intervalo: "))
                        continue
                    elif((h==3) or h<=1):
                        print("Ingrese un numero de intervalos direfente a 3 y mayor a 1 sino no tiene chiste hacer las regla de integracion de Simpson 1/3 ya que estaria haciendo Simpson 3/8")
                        h= int(input("numero de intervalos a manejar: "))
                        continue
                    elif(inic==fin and (h==3 or h<=1)):
                        print("Ingrese un intervalo valido y un numero de intervalo direfente a 3 y mayor a 1 sino no tiene chiste hacer las reglas de integracion")
                        inic= float(input("valor inicial del intervalo: "))
                        fin= float(input("valor final del intervalo: "))
                        h= int(input("numero de intervalos a manejar: "))
                        continue
                    elif(inic==fin):
                        print("Ingrese un intervalo valido")
                        inic= float(input("valor inicial del intervalo: "))
                        fin= float(input("valor final del intervalo: "))
                        continue
                    else: 
                        break
                    
                inicaux=inic
                finaux=fin
                
                paso= (fin - inic)/h
                i=0
                
                io=["i"]
                xi=["xi"]
                yi=["yi"]
                valx= 0.0
                valy= 0.0
                resultado=0.0
                resultado1= 0.0
                resultado2= 0.0
                
                while True:
                    if(i==0):
                        valx= inic
                        valy= fun1(inic)
                        xi.append(valx)
                        yi.append(valy)
                        io.append(i)
                        i+=1
                    else:
                        if(inic>fin):
                            break
                        
                        valx= inic + paso
                        ##valx=round(valx,15)
                        valy= fun1(valx)
                        xi.append(valx)
                        yi.append(valy)
                        io.append(i)
                        i+=1
                        inic= valx
            
                inic=inicaux
                fin=finaux
                i-=1
                j=1
                par=0
                impar=0
                simp3=0.0
                simp32=0.0
                io.remove(io[0])
                xi.remove(xi[0])
                yi.remove(yi[0])
                if(len(io)>h+1):
                    io.pop()
                    xi.pop()
                    yi.pop()
                    i-=1
                io=np.array(io)
                xi=np.array(xi)
                yi=np.array(yi)
                io=np.asarray(io,dtype=int)
                xi=np.asarray(xi,dtype=float)
                yi=np.asarray(yi,dtype=float)
                
                if(i%2==0):
                    print("Aplicando unicacmente Regla de Simpson 1/3, ya que el numero de intervalos es par: ")
                    while True:
                        impar+=yi[j]
                        j+=1
                        if(j==i):
                            break
                        par+= yi[j]
                        j+=1
                        
                    
                    resultado= (paso/3)*(fun1(inic) + fun1(fin) + 4*impar + 2*par) 
                    print(f"El valor de la integral por regla de Simpson 1/3 es: {resultado}")
                    
                elif((i%2 != 0) and i>=3):
                    print("Se aplicara regla de Simpson 1/3 y Regla de Simpson 3/8, ya que el numero de subintervalos no es par")    
                    j=i
                    j-=3
                    k=1  
                    while True:
                        impar+=yi[k]
                        k+=1
                        if(k==j):
                            break
                        par+= yi[k]
                        k+=1
                        
                    zz=yi[i-3]
                    resultado1= (paso/3)*(fun1(inic) + zz + 4*impar + 2*par) 
                    while True:
                        j+=1
                        simp3+=yi[j]
                        j+=1
                        simp3+=yi[j]
                        if(j == i-1):
                            break
                        j+=1
                        simp32+=yi[j]
                    
                    z=yi[i-3]
                    resultado2= (paso*3/8)*(z + fun1(fin) + 3*simp3 + 2*simp32)
                    resultado= resultado1 + resultado2
                    print(f"El valor de la integral por regla de Simpson 1/3 y regla de Simpson 3/8 es: {resultado}")

                resp3=0      
                while True:
                    resp3=int(input("¿Desea seguir calculando la integral de esta funcion pero con otros datos [Si->1, No->0]?: "))
                    if(resp3 == 0):
                        senti3=0
                        break
                    elif(resp3 == 1):
                        senti3=1
                        break
                    else:
                        resp3=int(input("Eliga una opcion valida: "))
                                
                
                if(senti3==0):
                    os.system("cls")
                    break
                elif(senti3==1):
                    os.system("cls")
                    pass
       
        elif(resp1==2):
            while True:
                print("Funcion: (( x^5 ) / ( (x^2 + 4)^(1/5) )), seleccionada")
                inic= float(input("Ingrese el valor inicial del intervalo: "))
                fin= float(input("Ingrese el valor final del intervalo: "))
                h= int(input("numero de intervalos a manejar: "))
                while True:
                    if(inic>fin and (h==3 or h<=1)):
                        print("Ingrese un intervalo valido y un numero de intervalor direfente a 3 y mayor a 1 sino no tiene chiste hacer las reglas de integracion")
                        inic= float(input("valor inicial del intervalo: "))
                        fin= float(input("valor final del intervalo: "))
                        h= int(input("numero de intervalos a manejar: "))
                        continue
                    elif(inic>fin):
                        print("Ingrese un intervalo valido")
                        inic= float(input("valor inicial del intervalo: "))
                        fin= float(input("valor final del intervalo: "))
                        continue
                    elif((h==3 or h<=1)):
                        print("Ingrese un numero de intervalos direfente a 3 y mayor a 1 sino no tiene chiste hacer las regla de integracion de Simpson 1/3 ya que estaria haciendo Simpson 3/8")
                        h= int(input("numero de intervalos a manejar: "))
                        continue
                    elif(inic==fin and (h==3 or h<=1)):
                        print("Ingrese un intervalo valido y un numero de intervalo direfente a 3 y mayor a 1 sino no tiene chiste hacer las reglas de integracion")
                        inic= float(input("valor inicial del intervalo: "))
                        fin= float(input("valor final del intervalo: "))
                        h= int(input("numero de intervalos a manejar: "))
                        continue
                    elif(inic==fin):
                        print("Ingrese un intervalo valido")
                        inic= float(input("valor inicial del intervalo: "))
                        fin= float(input("valor final del intervalo: "))
                        continue
                    else: 
                        break
                    
                inicaux=inic
                finaux=fin
                
                paso= (fin - inic)/h
                i=0
                
                io=["i"]
                xi=["xi"]
                yi=["yi"]
                valx= 0.0
                valy= 0.0
                resultado=0.0
                resultado1= 0.0
                resultado2= 0.0
                
                while True:
                    if(i==0):
                        valx= inic
                        valy= fun2(inic)
                        xi.append(valx)
                        yi.append(valy)
                        io.append(i)
                        i+=1
                    else:
                        if(inic>fin):
                            break
                        
                        valx= inic + paso
                        ##valx=round(valx,15)
                        valy= fun2(valx)
                        xi.append(valx)
                        yi.append(valy)
                        io.append(i)
                        i+=1
                        inic= valx
            
                inic=inicaux
                fin=finaux
                i-=1
                j=1
                par=0
                impar=0
                simp3=0.0
                simp32=0.0
                io.remove(io[0])
                xi.remove(xi[0])
                yi.remove(yi[0])
                if(len(io)>h+1):
                    io.pop()
                    xi.pop()
                    yi.pop()
                    i-=1
                io=np.array(io)
                xi=np.array(xi)
                yi=np.array(yi)
                io=np.asarray(io,dtype=int)
                xi=np.asarray(xi,dtype=float)
                yi=np.asarray(yi,dtype=float)
                
                if(i%2==0):
                    print("Aplicando unicacmente Regla de Simpson 1/3, ya que el numero de intervalos es par: ")
                    while True:
                        impar+=yi[j]
                        j+=1
                        if(j==i):
                            break
                        par+= yi[j]
                        j+=1
                    
                    resultado= (paso/3)*(fun2(inic) + fun2(fin) + 4*impar + 2*par) 
                    print(f"El valor de la integral es: {resultado}")
                    
                elif((i%2 != 0) and i>=3):
                    print("Se aplicara regla de Simpson 1/3 y Regla de Simpson 3/8, ya que el numero de subintervalos no es par")    
                    j=i
                    j-=3
                    k=1  
                    while True:
                        impar+=yi[k]
                        k+=1
                        if(k==j):
                            break
                        par+= yi[k]
                        k+=1
                        
                    zz=yi[i-3]
                    resultado1= (paso/3)*(fun2(inic) + zz + 4*impar + 2*par) 
                    while True:
                        j+=1
                        simp3+=yi[j]
                        j+=1
                        simp3+=yi[j]
                        if(j == i-1):
                            break
                        j+=1
                        simp32+=yi[j]
                    
                    z=yi[i-3]
                    resultado2= (paso*3/8)*(z + fun2(fin) + 3*simp3 + 2*simp32)
                    resultado= resultado1 + resultado2
                    print(f"El valor de la integral es: {resultado}")
                
                resp3=0      
                while True:
                    resp3=int(input("¿Desea seguir calculando la integral de esta funcion pero con otros datos [Si->1, No->0]?: "))
                    if(resp3 == 0):
                        senti3=0
                        break
                    elif(resp3 == 1):
                        senti3=1
                        break
                    else:
                        resp3=int(input("Eliga una opcion valida: "))
                                
                
                if(senti3==0):
                    os.system("cls")
                    break
                elif(senti3==1):
                    os.system("cls")
                    pass
        elif(resp1==3):
            break
        else:
            os.system("cls")
            print("seleccione una opcion valida")
        
    print("Vuelva pronto")
    os.system("cls")

if __name__ == '__main__':
    print("\n\nIntegracion Numerica por regla de Simpson 1/3")
    Integracion()